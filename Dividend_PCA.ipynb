{
  "nbformat": 4,
  "nbformat_minor": 0,
  "metadata": {
    "colab": {
      "provenance": []
    },
    "kernelspec": {
      "name": "python3",
      "display_name": "Python 3"
    },
    "language_info": {
      "name": "python"
    }
  },
  "cells": [
    {
      "cell_type": "code",
      "execution_count": 66,
      "metadata": {
        "id": "Q1WndAy-HpU2"
      },
      "outputs": [],
      "source": [
        "# importing required libraries\n",
        "import numpy as np\n",
        "import matplotlib.pyplot as plt\n",
        "import pandas as pd\n",
        "from sklearn.compose import ColumnTransformer\n",
        "from sklearn.preprocessing import OrdinalEncoder, LabelEncoder\n",
        "from sklearn.ensemble import RandomForestClassifier\n",
        "from sklearn.metrics import roc_auc_score, make_scorer\n",
        "from imblearn.over_sampling import SMOTENC\n",
        "from xgboost import XGBClassifier\n",
        "# !pip install xgboost"
      ]
    },
    {
      "cell_type": "code",
      "source": [
        "# importing or loading the dataset\n",
        "dataset = pd.read_csv('Stock_data.csv')\n",
        "\n",
        "num_dataset = dataset.select_dtypes(include=[np.number])\n",
        "# Multivariate Analysis\n",
        "\n",
        "# Correlation matrix\n",
        "correlation_matrix = num_dataset.corr()\n",
        "\n",
        "def rank_columns_by_correlation(df, threshold=0.9):\n",
        "    # Calculating correlation matrix\n",
        "    corr_matrix = df.corr()\n",
        "    # Initializing a list to hold the tuples (col1, col2, correlation)\n",
        "    correlations = []\n",
        "    # Iterating over the correlation matrix\n",
        "    for i in range(len(corr_matrix.columns)):\n",
        "        for j in range(i + 1, len(corr_matrix.columns)):  # avoiding duplicate and self-correlation\n",
        "            # Including only correlations above the specified threshold\n",
        "            if abs(corr_matrix.iloc[i, j]) > threshold:\n",
        "                correlations.append((corr_matrix.columns[i], corr_matrix.columns[j], corr_matrix.iloc[i, j]))\n",
        "\n",
        "    # Sorting the list by absolute correlation in descending order\n",
        "    sorted_correlations = sorted(correlations, key=lambda x: abs(x[2]), reverse=True)\n",
        "    correlation_df = pd.DataFrame(sorted_correlations, columns=['Column1', 'Column2', 'Correlation'])\n",
        "    return correlation_df\n",
        "\n",
        "top_correlations = rank_columns_by_correlation(num_dataset, 0.7)\n",
        "\n",
        "# Remove highly correlated columns\n",
        "columns_to_remove = top_correlations[\"Column2\"].unique()\n",
        "dataset.drop(columns_to_remove, axis=\"columns\", inplace=True)\n",
        "\n",
        "print(len(dataset.columns))"
      ],
      "metadata": {
        "colab": {
          "base_uri": "https://localhost:8080/"
        },
        "id": "Wgreph2MH9SL",
        "outputId": "04814d6c-dda2-4ae7-8e05-6fb1bc14fd19"
      },
      "execution_count": 52,
      "outputs": [
        {
          "output_type": "stream",
          "name": "stdout",
          "text": [
            "102\n"
          ]
        }
      ]
    },
    {
      "cell_type": "code",
      "source": [
        "# First let's leave out the last year's data as future test data, and 2021's data as validation data\n",
        "training_data = dataset.loc[(dataset[\"year\"] != 2022) & (dataset[\"year\"] != 2021)]\n",
        "validation_data = dataset.loc[dataset[\"year\"] == 2021]\n",
        "testing_data = dataset.loc[dataset[\"year\"] == 2022]\n",
        "\n",
        "\n",
        "# Predictor - Target Split\n",
        "X_train = training_data.drop(\"dps_change_next_year\", axis=\"columns\")\n",
        "y_train = training_data[\"dps_change_next_year\"]\n",
        "X_test = testing_data.drop(\"dps_change_next_year\", axis=\"columns\")\n",
        "y_test = testing_data[\"dps_change_next_year\"]\n",
        "X_validate = validation_data.drop(\"dps_change_next_year\", axis=\"columns\")\n",
        "y_validate = validation_data[\"dps_change_next_year\"]"
      ],
      "metadata": {
        "id": "ekvaGxkEIRQu"
      },
      "execution_count": 53,
      "outputs": []
    },
    {
      "cell_type": "code",
      "source": [
        "# Encoding our categorical features - The reason we are encoding them is that not all algorithms support\n",
        "# categorical predictors.\n",
        "\n",
        "# Define categorical features\n",
        "categorical_columns = [\"industry\", \"sector\", \"symbol\"]\n",
        "other_columns = [col for col in X_train.columns if col not in categorical_columns]\n",
        "\n",
        "# Label encode categorical features with many categories\n",
        "column_transformer = ColumnTransformer(\n",
        "    transformers=[\n",
        "        ('categorical', OrdinalEncoder(handle_unknown='use_encoded_value', unknown_value=-1), categorical_columns)\n",
        "    ],\n",
        "    remainder='passthrough'\n",
        ")\n",
        "\n",
        "X_train_transformed = column_transformer.fit_transform(X_train)\n",
        "X_validate_transformed = column_transformer.transform(X_validate)\n",
        "X_test_transformed = column_transformer.transform(X_test)\n",
        "\n",
        "# Note: after transformation, the output will be a numpy array and column orders will be changed.\n",
        "X_train_transformed = pd.DataFrame(X_train_transformed, columns=categorical_columns + other_columns)\n",
        "X_validate_transformed = pd.DataFrame(X_validate_transformed, columns=categorical_columns + other_columns)\n",
        "X_test_transformed = pd.DataFrame(X_test_transformed, columns=categorical_columns + other_columns)\n",
        "\n",
        "# Check our data type\n",
        "X_train_transformed.info(verbose=True, show_counts=True)\n",
        "\n",
        "# Let's change our data types back to their original forms - However, this time, categorical variables have become\n",
        "# number like strings\n",
        "cols_to_convert = {'industry': 'str', 'sector': 'str', 'symbol': 'str', 'year': 'int'}\n",
        "X_train_transformed = X_train_transformed.astype(cols_to_convert)\n",
        "X_validate_transformed = X_validate_transformed.astype(cols_to_convert)\n",
        "X_test_transformed = X_test_transformed.astype(cols_to_convert)"
      ],
      "metadata": {
        "colab": {
          "base_uri": "https://localhost:8080/"
        },
        "id": "wkKSxIApJg3j",
        "outputId": "09f9894b-f5c7-49b6-85da-4c4aceaa7855"
      },
      "execution_count": 54,
      "outputs": [
        {
          "output_type": "stream",
          "name": "stdout",
          "text": [
            "<class 'pandas.core.frame.DataFrame'>\n",
            "RangeIndex: 3840 entries, 0 to 3839\n",
            "Data columns (total 101 columns):\n",
            " #    Column                                                Non-Null Count  Dtype  \n",
            "---   ------                                                --------------  -----  \n",
            " 0    industry                                              3840 non-null   float64\n",
            " 1    sector                                                3840 non-null   float64\n",
            " 2    symbol                                                3840 non-null   float64\n",
            " 3    year                                                  3840 non-null   float64\n",
            " 4    adjDividend                                           3840 non-null   float64\n",
            " 5    dps_growth                                            3840 non-null   float64\n",
            " 6    dps_growth_rate                                       3840 non-null   float64\n",
            " 7    companyRating                                         3840 non-null   float64\n",
            " 8    companyRating_percentage_change                       3840 non-null   float64\n",
            " 9    interestRate                                          3840 non-null   float64\n",
            " 10   interestRate_percentage_change                        3840 non-null   float64\n",
            " 11   interestRate_actual_change                            3840 non-null   float64\n",
            " 12   currentRatio                                          3840 non-null   float64\n",
            " 13   currentRatio_percentage_change                        3840 non-null   float64\n",
            " 14   currentRatio_actual_change                            3840 non-null   float64\n",
            " 15   quickRatio                                            3840 non-null   float64\n",
            " 16   daysOfSalesOutstanding                                3840 non-null   float64\n",
            " 17   daysOfSalesOutstanding_percentage_change              3840 non-null   float64\n",
            " 18   daysOfSalesOutstanding_actual_change                  3840 non-null   float64\n",
            " 19   daysOfInventoryOutstanding                            3840 non-null   float64\n",
            " 20   daysOfInventoryOutstanding_percentage_change          3840 non-null   float64\n",
            " 21   grossProfitMargin                                     3840 non-null   float64\n",
            " 22   grossProfitMargin_percentage_change                   3840 non-null   float64\n",
            " 23   grossProfitMargin_actual_change                       3840 non-null   float64\n",
            " 24   operatingProfitMargin                                 3840 non-null   float64\n",
            " 25   operatingProfitMargin_percentage_change               3840 non-null   float64\n",
            " 26   pretaxProfitMargin_percentage_change                  3840 non-null   float64\n",
            " 27   netProfitMargin_percentage_change                     3840 non-null   float64\n",
            " 28   effectiveTaxRate                                      3840 non-null   float64\n",
            " 29   effectiveTaxRate_percentage_change                    3840 non-null   float64\n",
            " 30   returnOnAssets                                        3840 non-null   float64\n",
            " 31   returnOnAssets_actual_change                          3840 non-null   float64\n",
            " 32   returnOnEquity                                        3840 non-null   float64\n",
            " 33   returnOnEquity_percentage_change                      3840 non-null   float64\n",
            " 34   returnOnEquity_actual_change                          3840 non-null   float64\n",
            " 35   returnOnCapitalEmployed_actual_change                 3840 non-null   float64\n",
            " 36   netIncomePerEBT_percentage_change                     3840 non-null   float64\n",
            " 37   ebtPerEbit                                            3840 non-null   float64\n",
            " 38   ebtPerEbit_percentage_change                          3840 non-null   float64\n",
            " 39   ebtPerEbit_actual_change                              3840 non-null   float64\n",
            " 40   debtRatio                                             3840 non-null   float64\n",
            " 41   debtRatio_percentage_change                           3840 non-null   float64\n",
            " 42   debtRatio_actual_change                               3840 non-null   float64\n",
            " 43   debtEquityRatio                                       3840 non-null   float64\n",
            " 44   longTermDebtToCapitalization                          3840 non-null   float64\n",
            " 45   longTermDebtToCapitalization_percentage_change        3840 non-null   float64\n",
            " 46   longTermDebtToCapitalization_actual_change            3840 non-null   float64\n",
            " 47   totalDebtToCapitalization_actual_change               3840 non-null   float64\n",
            " 48   interestCoverage                                      3840 non-null   float64\n",
            " 49   interestCoverage_actual_change                        3840 non-null   float64\n",
            " 50   cashFlowToDebtRatio                                   3840 non-null   float64\n",
            " 51   cashFlowToDebtRatio_percentage_change                 3840 non-null   float64\n",
            " 52   receivablesTurnover                                   3840 non-null   float64\n",
            " 53   receivablesTurnover_percentage_change                 3840 non-null   float64\n",
            " 54   receivablesTurnover_actual_change                     3840 non-null   float64\n",
            " 55   payablesTurnover                                      3840 non-null   float64\n",
            " 56   payablesTurnover_percentage_change                    3840 non-null   float64\n",
            " 57   payablesTurnover_actual_change                        3840 non-null   float64\n",
            " 58   inventoryTurnover                                     3840 non-null   float64\n",
            " 59   inventoryTurnover_percentage_change                   3840 non-null   float64\n",
            " 60   inventoryTurnover_actual_change                       3840 non-null   float64\n",
            " 61   fixedAssetTurnover                                    3840 non-null   float64\n",
            " 62   fixedAssetTurnover_percentage_change                  3840 non-null   float64\n",
            " 63   assetTurnover                                         3840 non-null   float64\n",
            " 64   assetTurnover_percentage_change                       3840 non-null   float64\n",
            " 65   assetTurnover_actual_change                           3840 non-null   float64\n",
            " 66   operatingCashFlowPerShare                             3840 non-null   float64\n",
            " 67   operatingCashFlowPerShare_actual_change               3840 non-null   float64\n",
            " 68   freeCashFlowPerShare_percentage_change                3840 non-null   float64\n",
            " 69   cashPerShare                                          3840 non-null   float64\n",
            " 70   cashPerShare_percentage_change                        3840 non-null   float64\n",
            " 71   cashPerShare_actual_change                            3840 non-null   float64\n",
            " 72   payoutRatio                                           3840 non-null   float64\n",
            " 73   operatingCashFlowSalesRatio                           3840 non-null   float64\n",
            " 74   operatingCashFlowSalesRatio_actual_change             3840 non-null   float64\n",
            " 75   freeCashFlowOperatingCashFlowRatio                    3840 non-null   float64\n",
            " 76   freeCashFlowOperatingCashFlowRatio_percentage_change  3840 non-null   float64\n",
            " 77   shortTermCoverageRatios                               3840 non-null   float64\n",
            " 78   shortTermCoverageRatios_percentage_change             3840 non-null   float64\n",
            " 79   shortTermCoverageRatios_actual_change                 3840 non-null   float64\n",
            " 80   capitalExpenditureCoverageRatio                       3840 non-null   float64\n",
            " 81   capitalExpenditureCoverageRatio_percentage_change     3840 non-null   float64\n",
            " 82   capitalExpenditureCoverageRatio_actual_change         3840 non-null   float64\n",
            " 83   dividendPaidAndCapexCoverageRatio                     3840 non-null   float64\n",
            " 84   dividendPaidAndCapexCoverageRatio_percentage_change   3840 non-null   float64\n",
            " 85   dividendPaidAndCapexCoverageRatio_actual_change       3840 non-null   float64\n",
            " 86   priceBookValueRatio                                   3840 non-null   float64\n",
            " 87   priceBookValueRatio_actual_change                     3840 non-null   float64\n",
            " 88   priceToSalesRatio                                     3840 non-null   float64\n",
            " 89   priceToSalesRatio_percentage_change                   3840 non-null   float64\n",
            " 90   priceToSalesRatio_actual_change                       3840 non-null   float64\n",
            " 91   priceToFreeCashFlowsRatio                             3840 non-null   float64\n",
            " 92   priceToFreeCashFlowsRatio_percentage_change           3840 non-null   float64\n",
            " 93   priceToOperatingCashFlowsRatio                        3840 non-null   float64\n",
            " 94   priceToOperatingCashFlowsRatio_percentage_change      3840 non-null   float64\n",
            " 95   priceEarningsToGrowthRatio                            3840 non-null   float64\n",
            " 96   dividendYield                                         3840 non-null   float64\n",
            " 97   dividendYield_percentage_change                       3840 non-null   float64\n",
            " 98   dividendYield_actual_change                           3840 non-null   float64\n",
            " 99   enterpriseValueMultiple                               3840 non-null   float64\n",
            " 100  enterpriseValueMultiple_percentage_change             3840 non-null   float64\n",
            "dtypes: float64(101)\n",
            "memory usage: 3.0 MB\n"
          ]
        }
      ]
    },
    {
      "cell_type": "code",
      "source": [
        "# Check data imbalance\n",
        "# Let's add target back to our dataset for further analysis\n",
        "training_data_transformed = pd.concat([X_train_transformed, y_train], axis=1)\n",
        "training_data_transformed[\"dps_change_next_year\"].value_counts()\n",
        "\n",
        "# Let's do some over sampling\n",
        "\n",
        "# Perform oversampling using SMOTE\n",
        "categorical_indices = [X_train_transformed.columns.get_loc(col) for col in categorical_columns]\n",
        "smote = SMOTENC(random_state=1, categorical_features=categorical_indices)\n",
        "\n",
        "X_train_oversampled, y_train_oversampled = smote.fit_resample(X_train_transformed, y_train)\n",
        "# Check our training data\n",
        "pd.DataFrame(y_train_oversampled)[\"dps_change_next_year\"].value_counts()\n",
        "X_train_oversampled.info()"
      ],
      "metadata": {
        "colab": {
          "base_uri": "https://localhost:8080/"
        },
        "id": "Mrza2sI4c8af",
        "outputId": "2f7e6e35-4cad-4ff5-a11b-2dc64ce52a36"
      },
      "execution_count": 55,
      "outputs": [
        {
          "output_type": "stream",
          "name": "stdout",
          "text": [
            "<class 'pandas.core.frame.DataFrame'>\n",
            "RangeIndex: 7246 entries, 0 to 7245\n",
            "Columns: 101 entries, industry to enterpriseValueMultiple_percentage_change\n",
            "dtypes: float64(97), int64(1), object(3)\n",
            "memory usage: 5.6+ MB\n"
          ]
        }
      ]
    },
    {
      "cell_type": "code",
      "source": [
        "# performing preprocessing part\n",
        "from sklearn.preprocessing import StandardScaler\n",
        "sc = StandardScaler()\n",
        "\n",
        "X_train_pca = sc.fit_transform(X_train_oversampled)\n",
        "X_validate_pca = sc.transform(X_validate_transformed)\n",
        "X_test_pca = sc.transform(X_test_transformed)\n"
      ],
      "metadata": {
        "id": "iXRFWVhBIV5G"
      },
      "execution_count": 56,
      "outputs": []
    },
    {
      "cell_type": "code",
      "source": [
        "# Applying PCA function on training\n",
        "# and testing set of X component\n",
        "from sklearn.decomposition import PCA\n",
        "\n",
        "pca = PCA().fit(X_train_pca)\n",
        "plt.plot(np.cumsum(pca.explained_variance_ratio_))\n",
        "plt.xlabel('number of components')\n",
        "plt.ylabel('cumulative explained variance')\n"
      ],
      "metadata": {
        "colab": {
          "base_uri": "https://localhost:8080/",
          "height": 467
        },
        "id": "YXgcCDNLJJub",
        "outputId": "fda1b069-c8ba-4de2-a837-39af0797b122"
      },
      "execution_count": 57,
      "outputs": [
        {
          "output_type": "execute_result",
          "data": {
            "text/plain": [
              "Text(0, 0.5, 'cumulative explained variance')"
            ]
          },
          "metadata": {},
          "execution_count": 57
        },
        {
          "output_type": "display_data",
          "data": {
            "text/plain": [
              "<Figure size 640x480 with 1 Axes>"
            ],
            "image/png": "[encoded data removed]"
          },
          "metadata": {}
        }
      ]
    },
    {
      "cell_type": "code",
      "source": [
        "pca = PCA(n_components = 0.95)\n",
        "\n",
        "X_train_pca = pca.fit_transform(X_train_pca)\n",
        "X_validate_pca = pca.transform(X_validate_pca)\n",
        "X_test_pca = pca.transform(X_test_pca)\n",
        "\n",
        "explained_variance = pca.explained_variance_ratio_\n"
      ],
      "metadata": {
        "id": "F8ueyHJfKe5s"
      },
      "execution_count": 60,
      "outputs": []
    },
    {
      "cell_type": "code",
      "source": [
        "X_train_temp = X_train_pca.copy()\n",
        "X_validate_temp = X_validate_pca.copy()\n",
        "\n",
        "# First, evaluate performance using all features\n",
        "randomForestModel = RandomForestClassifier(max_features=None)\n",
        "randomForestModel.fit(X_train_pca, y_train_oversampled)\n",
        "# Predict probabilities on test data\n",
        "y_pred_probs = randomForestModel.predict_proba(X_validate_temp)[:, 1]\n",
        "# Compute ROC score\n",
        "roc_score = roc_auc_score(y_test, y_pred_probs)\n",
        "# Append the result to the result dataframe\n",
        "print(f\"Feature_Removed: None, ROC_AUC_Score: {roc_score}\")\n"
      ],
      "metadata": {
        "colab": {
          "base_uri": "https://localhost:8080/"
        },
        "id": "Whn_F-5iKOd5",
        "outputId": "8b0dda13-190d-4bc5-9f58-766ca5144100"
      },
      "execution_count": 61,
      "outputs": [
        {
          "output_type": "stream",
          "name": "stdout",
          "text": [
            "Feature_Removed: None, ROC_AUC_Score: 0.5444992690058479\n"
          ]
        }
      ]
    },
    {
      "cell_type": "code",
      "source": [],
      "metadata": {
        "id": "AdG2iTgdNeaG"
      },
      "execution_count": null,
      "outputs": []
    },
    {
      "cell_type": "code",
      "source": [
        "from sklearn.ensemble import RandomForestClassifier\n",
        "from sklearn.metrics import roc_auc_score, make_scorer\n",
        "from sklearn.neighbors import KNeighborsClassifier\n",
        "from sklearn.linear_model import LogisticRegression\n",
        "from sklearn.tree import DecisionTreeClassifier\n",
        "from sklearn.svm import SVC\n",
        "from sklearn.metrics import accuracy_score"
      ],
      "metadata": {
        "id": "kFWiN-SGP5jO"
      },
      "execution_count": 63,
      "outputs": []
    },
    {
      "cell_type": "code",
      "source": [
        "from sklearn.preprocessing import LabelEncoder\n",
        "\n",
        "# Assuming y_train_oversampled and y_validate contain the original categorical labels\n",
        "label_encoder = LabelEncoder()\n",
        "\n",
        "# Fit the label encoder and transform the labels to integers\n",
        "y_train_encoded = label_encoder.fit_transform(y_train_oversampled)\n",
        "y_validate_encoded = label_encoder.transform(y_validate)"
      ],
      "metadata": {
        "id": "CkefwO0glBnn"
      },
      "execution_count": 68,
      "outputs": []
    },
    {
      "cell_type": "code",
      "source": [
        "models = {\n",
        "    'Random Forest': RandomForestClassifier(n_estimators=100, random_state=42),\n",
        "    'Logistic Regression': LogisticRegression(max_iter=1000),\n",
        "    'Decision Tree': DecisionTreeClassifier(random_state=42),\n",
        "    'KNN': KNeighborsClassifier(n_neighbors=5),\n",
        "    'XGBoost': XGBClassifier(use_label_encoder=False, eval_metric='logloss')\n",
        "}\n",
        "\n",
        "# Train and evaluate each model\n",
        "results = {}\n",
        "for name, model in models.items():\n",
        "    model.fit(X_train_pca, y_train_encoded)\n",
        "    y_pred = model.predict(X_validate_pca)\n",
        "    y_pred_prob = model.predict_proba(X_validate_pca)[:, 1]  # probabilities for the positive class\n",
        "    accuracy = accuracy_score(y_validate_encoded, y_pred)\n",
        "    auc_roc = roc_auc_score(y_validate_encoded, y_pred_prob)\n",
        "    results[name] = (accuracy, auc_roc)\n",
        "\n",
        "# Print the accuracy and AUC-ROC of each model\n",
        "for name, (accuracy, auc_roc) in results.items():\n",
        "    print(f\"{name} - Accuracy: {accuracy:.4f}, AUC-ROC: {auc_roc:.4f}\")\n"
      ],
      "metadata": {
        "colab": {
          "base_uri": "https://localhost:8080/"
        },
        "id": "WtEeAN_XP5eh",
        "outputId": "d5fbf02f-8434-40a0-9fa2-6427f4bdbbe2"
      },
      "execution_count": 70,
      "outputs": [
        {
          "output_type": "stream",
          "name": "stdout",
          "text": [
            "Random Forest - Accuracy: 0.9417, AUC-ROC: 0.7115\n",
            "Logistic Regression - Accuracy: 0.8146, AUC-ROC: 0.8493\n",
            "Decision Tree - Accuracy: 0.7250, AUC-ROC: 0.4915\n",
            "KNN - Accuracy: 0.7937, AUC-ROC: 0.6822\n",
            "XGBoost - Accuracy: 0.8333, AUC-ROC: 0.5511\n"
          ]
        }
      ]
    },
    {
      "cell_type": "code",
      "source": [],
      "metadata": {
        "id": "bdhHaoHjP5ad"
      },
      "execution_count": null,
      "outputs": []
    },
    {
      "cell_type": "code",
      "source": [],
      "metadata": {
        "id": "PzP4Yn4RP440"
      },
      "execution_count": null,
      "outputs": []
    }
  ]
}